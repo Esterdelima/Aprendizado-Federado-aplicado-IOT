{
 "cells": [
  {
   "cell_type": "markdown",
   "metadata": {
    "id": "bj3F1nTZj1ho"
   },
   "source": [
    "# Hands On - Aprendizado Federado aplicado à Internet das Coisas\n",
    "\n",
    "**Notebook 2**: Criação de clientes no ambiente federado"
   ]
  },
  {
   "cell_type": "markdown",
   "metadata": {
    "id": "cJPTVnswkMdN"
   },
   "source": [
    "O reconhecimento da atividade humana é uma área de pesquisa ativa e que possui um enorme potencial de benefício com o uso de aprendizado federado (FL), já que tais dados são normalmente privados e possuem informações sensíveis sobre os usuários.\n",
    "Além disso, com FL também podemos desenvolver um modelo conjunto que consiga capturar a diversidade dos dados, algo que é extremamente difícil de ser coletado de forma individual.\n",
    "\n",
    "Sob esse contexto, nesse tutorial vamos aprender como definir clientes para o treinamento federado de uma rede neural para auxilar no reconhecimento de atividades humanas (*Human Activity Recognition* - HAR) usando o framework de aprendizado federado\n",
    "Flower em conjunto com a biblioteca de deep learning Pytorch."
   ]
  },
  {
   "cell_type": "markdown",
   "metadata": {
    "id": "2hX7rxsAk8CT"
   },
   "source": [
    "### Dataset\n",
    "\n",
    "Os dados serão particionados horizontalmente, assim os subconjuntos de treinamento e teste irão ser divididos em mini-batches (pequenos lotes) com base no número total de clientes.\n",
    "\n",
    "Para isso, aplicaremos uma função auxiliar para carregar os dados e definir os conjuntos de treinamento e teste.\n",
    "Nessa função, precisaremos dos seguintes parâmetros: \n",
    "\n",
    "* **data root (str)**: Diretório onde os datasets finais serão armazenados. \n",
    "\n",
    "* **train batch size (int)**: Tamanho do mini-batch usado nos dados de treinamento.\n",
    "\n",
    "* **test batch size (int)**: Tamanho do mini-batch usado nos dados de teste. \n",
    "\n",
    "* **id (int)**: Client ID usado para selecionar uma partição específica. \n",
    "\n",
    "* **nb clients (int)**: Número total de clientes usados no treinamento."
   ]
  },
  {
   "cell_type": "code",
   "execution_count": 1,
   "metadata": {
    "colab": {
     "base_uri": "https://localhost:8080/"
    },
    "id": "UVQzVKL2r67J",
    "outputId": "67066d3f-f7bb-412c-e76b-091aea68ff3c"
   },
   "outputs": [],
   "source": [
    "#Carregando os dados\n",
    "import flwr as fl\n",
    "import torch\n",
    "import aux\n",
    "\n",
    "DATA_ROOT = \"./data/pml-training.csv\"\n",
    "\n",
    "cid = 1\n",
    "nb_clients = 3\n",
    "train_batch_size = 64\n",
    "test_batch_size = 64\n",
    "epochs = 10\n",
    "\n",
    "# Load data\n",
    "train_loader, test_loader = aux.load_data(\n",
    "        data_root = DATA_ROOT,\n",
    "        train_batch_size = train_batch_size,\n",
    "        test_batch_size = test_batch_size,\n",
    "        cid = cid,\n",
    "        nb_clients = nb_clients + 1,\n",
    ")"
   ]
  },
  {
   "cell_type": "markdown",
   "metadata": {
    "id": "Arvhg44xrwWm"
   },
   "source": [
    "### Rede Neural\n",
    "\n",
    "Atualmente o modelo de classificação mais adequado e vantajoso para a modelagem de um ambiente federado são as redes neurais.\n",
    "Definimos essa configuração de arquitetura por meio da criação de uma classe em Pytorch denominada **HARmodel** presente no arquivo auxiliar *aux.py* adicionado."
   ]
  },
  {
   "cell_type": "markdown",
   "metadata": {
    "id": "-glqWQnYsGt3"
   },
   "source": [
    "### Cliente Flower\n",
    "\n",
    "O próximo passo é definir a alocação dos dispositivos no ambiente federado. \n",
    "\n",
    "Quando o servidor seleciona um dispositivo específico do ambiente federado para realizar um treinamento, ele envia as instruções pela rede, por meio de uma interface chamada **Client**.\n",
    "Assim, o cliente recebe as instruções do servidor e chama um dos métodos desta classe para executar seu código (ou seja, para treinar a sua rede neural local). \n",
    "\n",
    "O framework Flower fornece uma classe chamada *NumPyClient*, que torna mais fácil implementar a interface do cliente quando utilizamos PyTorch. \n",
    "Quando implementamos um NumPyClient devemos definir os seguintes métodos: \n",
    "\n",
    "* **get_parameters**: retorna o peso do modelo\n",
    "como uma lista de ndarrays \n",
    "\n",
    "* **set_parameters** (opcional): atualiza os pesos do modelo\n",
    "local com os parâmetros recebidos do servidor \n",
    "\n",
    "* **fit**: define os pesos do modelo local, treina o modelo localmente e recebe o update dos pesos locais \n",
    "\n",
    "* **evaluate**: define como o modelo local será testado. \n",
    "\n",
    "Abaixo mostramos como a classe Client foi implementada\n",
    "para o caso de estudo apresentado:"
   ]
  },
  {
   "cell_type": "code",
   "execution_count": 3,
   "metadata": {},
   "outputs": [],
   "source": [
    "class FlowerClient(fl.client.Client):\n",
    "    \"\"\"Flower client implementing classification using PyTorch.\"\"\"\n",
    "\n",
    "    def __init__(self, cid, train_loader, test_loader, epochs, device: torch.device = torch.device(\"cpu\")):\n",
    "        \n",
    "        self.model = HARmodel(40, 5).to(device)\n",
    "        self.cid = cid\n",
    "        self.train_loader = train_loader\n",
    "        self.test_loader = test_loader\n",
    "        self.device = device\n",
    "        self.epochs = epochs\n",
    "\n",
    "    def get_weights(self):\n",
    "        \"\"\"Get model weights as a list of NumPy ndarrays.\"\"\"\n",
    "        return [val.cpu().numpy() for _, val in self.model.state_dict().items()]\n",
    "\n",
    "    def set_weights(self, weights):\n",
    "        \"\"\"Set model weights from a list of NumPy ndarrays.\n",
    "        Parameters\n",
    "        ----------\n",
    "        weights: fl.common.Weights\n",
    "            Weights received by the server and set to local model\n",
    "        Returns\n",
    "        -------\n",
    "        \"\"\"\n",
    "        state_dict = OrderedDict(\n",
    "            {\n",
    "                k: torch.Tensor(v)\n",
    "                for k, v in zip(self.model.state_dict().keys(), weights)\n",
    "            }\n",
    "        )\n",
    "        self.model.load_state_dict(state_dict, strict=True)\n",
    "\n",
    "    def get_parameters(self):\n",
    "        \"\"\"Encapsulates the weights into Flower Parameters \"\"\"\n",
    "        weights: fl.common.Weights = self.get_weights()\n",
    "        parameters = fl.common.weights_to_parameters(weights)\n",
    "        return fl.common.ParametersRes(parameters=parameters)\n",
    "\n",
    "    def fit(self, ins):\n",
    "        \"\"\"Trains the model on local dataset\n",
    "        Parameters\n",
    "        ----------\n",
    "        ins: fl.common.FitIns\n",
    "           Parameters sent by the server to be used during training.\n",
    "        Returns\n",
    "        -------\n",
    "            Set of variables containing the new set of weights and information the client.\n",
    "        \"\"\"\n",
    "\n",
    "        # Set the seed so we are sure to generate the same global batches\n",
    "        # indices across all clients\n",
    "        np.random.seed(123)\n",
    "\n",
    "        weights: fl.common.Weights = fl.common.parameters_to_weights(ins.parameters)\n",
    "        fit_begin = timeit.default_timer()\n",
    "\n",
    "        # Set model parameters/weights\n",
    "        self.set_weights(weights)\n",
    "\n",
    "        # Train model\n",
    "        num_examples_train: int = train(\n",
    "            self.model, self.train_loader, epochs = self.epochs, device = self.device, cid = self.cid\n",
    "        )\n",
    "\n",
    "        # Return the refined weights and the number of examples used for training\n",
    "        weights_prime: fl.common.Weights = self.get_weights()\n",
    "        params_prime = fl.common.weights_to_parameters(weights_prime)\n",
    "        fit_duration = timeit.default_timer() - fit_begin\n",
    "        return fl.common.FitRes(\n",
    "            parameters = params_prime,\n",
    "            num_examples = num_examples_train,\n",
    "            num_examples_ceil = num_examples_train,\n",
    "            fit_duration = fit_duration,\n",
    "        )\n",
    "\n",
    "    def evaluate(self, ins):\n",
    "        \"\"\"\n",
    "        Parameters\n",
    "        ----------\n",
    "        ins: fl.common.EvaluateIns\n",
    "           Parameters sent by the server to be used during testing.\n",
    "        Returns\n",
    "        -------\n",
    "            Information the clients testing results.\n",
    "        \"\"\"\n",
    "        weights = fl.common.parameters_to_weights(ins.parameters)\n",
    "\n",
    "        # Use provided weights to update the local model\n",
    "        self.set_weights(weights)\n",
    "\n",
    "        (num_examples_test, test_loss, accuracy) = test(self.model, self.test_loader, device = self.device)\n",
    "        print(f\"Client {self.cid} - Evaluate on {num_examples_test} samples: Average loss: {test_loss:.4f}, Accuracy: {100*accuracy:.2f}%\\n\")\n",
    "\n",
    "        # Return the number of evaluation examples and the evaluation result (loss)\n",
    "        return fl.common.EvaluateRes(\n",
    "            num_examples = num_examples_test,\n",
    "            loss = float(test_loss),\n",
    "            accuracy = float(accuracy),\n",
    "        )"
   ]
  },
  {
   "cell_type": "markdown",
   "metadata": {},
   "source": [
    "### Instanciando o cliente"
   ]
  },
  {
   "cell_type": "code",
   "execution_count": 4,
   "metadata": {
    "id": "MEUIciNJ69re"
   },
   "outputs": [],
   "source": [
    "device = torch.device(\"cuda\" if torch.cuda.is_available() else \"cpu\")\n",
    "\n",
    "client = aux.FlowerClient(\n",
    "    cid = cid,\n",
    "    train_loader = train_loader,\n",
    "    test_loader = test_loader,\n",
    "    epochs = epochs,\n",
    "    device = device,\n",
    ")"
   ]
  },
  {
   "cell_type": "markdown",
   "metadata": {
    "id": "yNxtUr3s67hn"
   },
   "source": [
    "### Inicializando o cliente\n",
    "\n",
    "O flower nos fornece a possibilidade de rodar o servidor e o cliente na mesma máquina, configurando o endereço do servidor como \"[::]: 8080\". \n",
    "Porém, se quisermos implementar uma aplicação realmente federada com o servidor e clientes em execução em diferentes máquinas, precisaremos apenas alterar o server address para o respectivo endereço da máquina do cliente."
   ]
  },
  {
   "cell_type": "code",
   "execution_count": 5,
   "metadata": {
    "id": "CD9ie8II7QHB",
    "scrolled": false
   },
   "outputs": [
    {
     "name": "stderr",
     "output_type": "stream",
     "text": [
      "DEBUG flower 2024-07-04 13:34:34,299 | connection.py:36 | ChannelConnectivity.IDLE\n",
      "DEBUG flower 2024-07-04 13:34:34,302 | connection.py:36 | ChannelConnectivity.READY\n",
      "INFO flower 2024-07-04 13:34:34,305 | app.py:61 | Opened (insecure) gRPC connection\n"
     ]
    },
    {
     "name": "stdout",
     "output_type": "stream",
     "text": [
      "Training 10 epoch(s) w/ 77 mini-batches each\n",
      "\n",
      "Train Epoch: 0 [4416/4928 (90%)] Loss: 1.729266, Acc: 0.225996 (Cliente 1)\t\t\t\t\n",
      "Train Epoch: 1 [4416/4928 (90%)] Loss: 1.546764, Acc: 0.263813 (Cliente 1)\t\t\t\t\n",
      "Train Epoch: 2 [4416/4928 (90%)] Loss: 1.523300, Acc: 0.301404 (Cliente 1)\t\t\t\t\n",
      "Train Epoch: 3 [4416/4928 (90%)] Loss: 1.517440, Acc: 0.353487 (Cliente 1)\t\t\t\t\n",
      "Train Epoch: 4 [4416/4928 (90%)] Loss: 1.479172, Acc: 0.390851 (Cliente 1)\t\t\t\t\n",
      "Train Epoch: 5 [4416/4928 (90%)] Loss: 1.356304, Acc: 0.407835 (Cliente 1)\t\t\t\t\n",
      "Train Epoch: 6 [4416/4928 (90%)] Loss: 1.283378, Acc: 0.448370 (Cliente 1)\t\t\t\t\n",
      "Train Epoch: 7 [4416/4928 (90%)] Loss: 1.285527, Acc: 0.463995 (Cliente 1)\t\t\t\t\n",
      "Train Epoch: 8 [4416/4928 (90%)] Loss: 1.390363, Acc: 0.473732 (Cliente 1)\t\t\t\t\n",
      "Training 10 epoch(s) w/ 77 mini-batches each129, Acc: 0.487545 (Cliente 1)\t\t\t\t\n",
      "\n",
      "Train Epoch: 0 [4416/4928 (90%)] Loss: 1.293072, Acc: 0.466259 (Cliente 1)\t\t\t\t\n",
      "Train Epoch: 1 [4416/4928 (90%)] Loss: 1.355552, Acc: 0.507473 (Cliente 1)\t\t\t\t\n",
      "Train Epoch: 2 [4416/4928 (90%)] Loss: 1.148425, Acc: 0.517210 (Cliente 1)\t\t\t\t\n",
      "Train Epoch: 3 [4416/4928 (90%)] Loss: 1.162568, Acc: 0.524004 (Cliente 1)\t\t\t\t\n",
      "Train Epoch: 4 [4416/4928 (90%)] Loss: 1.013747, Acc: 0.543252 (Cliente 1)\t\t\t\t\n",
      "Train Epoch: 5 [4416/4928 (90%)] Loss: 1.192713, Acc: 0.544837 (Cliente 1)\t\t\t\t\n",
      "Train Epoch: 6 [4416/4928 (90%)] Loss: 0.989011, Acc: 0.557292 (Cliente 1)\t\t\t\t\n",
      "Train Epoch: 7 [4416/4928 (90%)] Loss: 1.046957, Acc: 0.552763 (Cliente 1)\t\t\t\t\n",
      "Train Epoch: 8 [4416/4928 (90%)] Loss: 1.008698, Acc: 0.574049 (Cliente 1)\t\t\t\t\n",
      "Training 10 epoch(s) w/ 77 mini-batches each910, Acc: 0.572011 (Cliente 1)\t\t\t\t\n",
      "\n",
      "Train Epoch: 0 [4416/4928 (90%)] Loss: 0.943092, Acc: 0.566576 (Cliente 1)\t\t\t\t\n",
      "Train Epoch: 1 [4416/4928 (90%)] Loss: 1.206478, Acc: 0.571784 (Cliente 1)\t\t\t\t\n",
      "Train Epoch: 2 [4416/4928 (90%)] Loss: 0.960879, Acc: 0.575408 (Cliente 1)\t\t\t\t\n",
      "Train Epoch: 3 [4416/4928 (90%)] Loss: 0.956835, Acc: 0.598053 (Cliente 1)\t\t\t\t\n",
      "Train Epoch: 4 [4416/4928 (90%)] Loss: 0.836298, Acc: 0.596241 (Cliente 1)\t\t\t\t\n",
      "Train Epoch: 5 [4416/4928 (90%)] Loss: 1.105738, Acc: 0.586957 (Cliente 1)\t\t\t\t\n",
      "Train Epoch: 6 [4416/4928 (90%)] Loss: 1.228751, Acc: 0.595335 (Cliente 1)\t\t\t\t\n",
      "Train Epoch: 7 [4416/4928 (90%)] Loss: 0.893408, Acc: 0.603261 (Cliente 1)\t\t\t\t\n",
      "Train Epoch: 8 [4416/4928 (90%)] Loss: 0.929873, Acc: 0.617074 (Cliente 1)\t\t\t\t\n",
      "Training 10 epoch(s) w/ 77 mini-batches each347, Acc: 0.622056 (Cliente 1)\t\t\t\t\n",
      "\n",
      "Train Epoch: 0 [4416/4928 (90%)] Loss: 0.918254, Acc: 0.605299 (Cliente 1)\t\t\t\t\n",
      "Train Epoch: 1 [4416/4928 (90%)] Loss: 0.912456, Acc: 0.626132 (Cliente 1)\t\t\t\t\n",
      "Train Epoch: 2 [4416/4928 (90%)] Loss: 1.081441, Acc: 0.626132 (Cliente 1)\t\t\t\t\n",
      "Train Epoch: 3 [4416/4928 (90%)] Loss: 0.867570, Acc: 0.635643 (Cliente 1)\t\t\t\t\n",
      "Train Epoch: 4 [4416/4928 (90%)] Loss: 0.845599, Acc: 0.623868 (Cliente 1)\t\t\t\t\n",
      "Train Epoch: 5 [4416/4928 (90%)] Loss: 0.900846, Acc: 0.634284 (Cliente 1)\t\t\t\t\n",
      "Train Epoch: 6 [4416/4928 (90%)] Loss: 0.863042, Acc: 0.631567 (Cliente 1)\t\t\t\t\n",
      "Train Epoch: 7 [4416/4928 (90%)] Loss: 0.907349, Acc: 0.639266 (Cliente 1)\t\t\t\t\n",
      "Train Epoch: 8 [4416/4928 (90%)] Loss: 0.845477, Acc: 0.643342 (Cliente 1)\t\t\t\t\n",
      "Training 10 epoch(s) w/ 77 mini-batches each856, Acc: 0.642210 (Cliente 1)\t\t\t\t\n",
      "\n",
      "Train Epoch: 0 [4416/4928 (90%)] Loss: 1.165405, Acc: 0.638134 (Cliente 1)\t\t\t\t\n",
      "Train Epoch: 1 [4416/4928 (90%)] Loss: 0.686678, Acc: 0.642210 (Cliente 1)\t\t\t\t\n",
      "Train Epoch: 2 [4416/4928 (90%)] Loss: 0.863384, Acc: 0.657156 (Cliente 1)\t\t\t\t\n",
      "Train Epoch: 3 [4416/4928 (90%)] Loss: 0.902985, Acc: 0.670969 (Cliente 1)\t\t\t\t\n",
      "Train Epoch: 4 [4416/4928 (90%)] Loss: 0.908987, Acc: 0.671196 (Cliente 1)\t\t\t\t\n",
      "Train Epoch: 5 [4416/4928 (90%)] Loss: 0.832785, Acc: 0.671875 (Cliente 1)\t\t\t\t\n",
      "Train Epoch: 6 [4416/4928 (90%)] Loss: 0.760373, Acc: 0.669158 (Cliente 1)\t\t\t\t\n",
      "Train Epoch: 7 [4416/4928 (90%)] Loss: 0.985171, Acc: 0.664176 (Cliente 1)\t\t\t\t\n",
      "Train Epoch: 8 [4416/4928 (90%)] Loss: 0.597596, Acc: 0.666893 (Cliente 1)\t\t\t\t\n",
      "Training 10 epoch(s) w/ 77 mini-batches each963, Acc: 0.663723 (Cliente 1)\t\t\t\t\n",
      "\n",
      "Train Epoch: 0 [4416/4928 (90%)] Loss: 0.771468, Acc: 0.660553 (Cliente 1)\t\t\t\t\n",
      "Train Epoch: 1 [4416/4928 (90%)] Loss: 0.943200, Acc: 0.678668 (Cliente 1)\t\t\t\t\n",
      "Train Epoch: 2 [4416/4928 (90%)] Loss: 0.885188, Acc: 0.680707 (Cliente 1)\t\t\t\t\n",
      "Train Epoch: 3 [4416/4928 (90%)] Loss: 0.887043, Acc: 0.674366 (Cliente 1)\t\t\t\t\n",
      "Train Epoch: 4 [4416/4928 (90%)] Loss: 0.840891, Acc: 0.678895 (Cliente 1)\t\t\t\t\n",
      "Train Epoch: 5 [4416/4928 (90%)] Loss: 0.691842, Acc: 0.684556 (Cliente 1)\t\t\t\t\n",
      "Train Epoch: 6 [4416/4928 (90%)] Loss: 0.921432, Acc: 0.685915 (Cliente 1)\t\t\t\t\n",
      "Train Epoch: 7 [4416/4928 (90%)] Loss: 0.796661, Acc: 0.679121 (Cliente 1)\t\t\t\t\n",
      "Train Epoch: 8 [4416/4928 (90%)] Loss: 1.181010, Acc: 0.694067 (Cliente 1)\t\t\t\t\n",
      "Training 10 epoch(s) w/ 77 mini-batches each982, Acc: 0.704710 (Cliente 1)\t\t\t\t\n",
      "\n",
      "Train Epoch: 0 [4416/4928 (90%)] Loss: 0.803642, Acc: 0.678668 (Cliente 1)\t\t\t\t\n",
      "Train Epoch: 1 [4416/4928 (90%)] Loss: 0.910827, Acc: 0.681612 (Cliente 1)\t\t\t\t\n",
      "Train Epoch: 2 [4416/4928 (90%)] Loss: 0.749462, Acc: 0.689764 (Cliente 1)\t\t\t\t\n",
      "Train Epoch: 3 [4416/4928 (90%)] Loss: 0.717659, Acc: 0.691123 (Cliente 1)\t\t\t\t\n",
      "Train Epoch: 4 [4416/4928 (90%)] Loss: 0.669151, Acc: 0.704937 (Cliente 1)\t\t\t\t\n",
      "Train Epoch: 5 [4416/4928 (90%)] Loss: 0.876365, Acc: 0.693841 (Cliente 1)\t\t\t\t\n",
      "Train Epoch: 6 [4416/4928 (90%)] Loss: 0.739509, Acc: 0.703578 (Cliente 1)\t\t\t\t\n",
      "Train Epoch: 7 [4416/4928 (90%)] Loss: 0.864121, Acc: 0.692935 (Cliente 1)\t\t\t\t\n",
      "Train Epoch: 8 [4416/4928 (90%)] Loss: 0.508795, Acc: 0.697011 (Cliente 1)\t\t\t\t\n",
      "Training 10 epoch(s) w/ 77 mini-batches each419, Acc: 0.696558 (Cliente 1)\t\t\t\t\n",
      "\n",
      "Train Epoch: 0 [4416/4928 (90%)] Loss: 0.775726, Acc: 0.694067 (Cliente 1)\t\t\t\t\n",
      "Train Epoch: 1 [4416/4928 (90%)] Loss: 0.686051, Acc: 0.703351 (Cliente 1)\t\t\t\t\n",
      "Train Epoch: 2 [4416/4928 (90%)] Loss: 0.772432, Acc: 0.700181 (Cliente 1)\t\t\t\t\n",
      "Train Epoch: 3 [4416/4928 (90%)] Loss: 1.024550, Acc: 0.714221 (Cliente 1)\t\t\t\t\n",
      "Train Epoch: 4 [4416/4928 (90%)] Loss: 1.026962, Acc: 0.699049 (Cliente 1)\t\t\t\t\n",
      "Train Epoch: 5 [4416/4928 (90%)] Loss: 0.927594, Acc: 0.709466 (Cliente 1)\t\t\t\t\n",
      "Train Epoch: 6 [4416/4928 (90%)] Loss: 0.835215, Acc: 0.709692 (Cliente 1)\t\t\t\t\n",
      "Train Epoch: 7 [4416/4928 (90%)] Loss: 0.810641, Acc: 0.706069 (Cliente 1)\t\t\t\t\n",
      "Train Epoch: 8 [4416/4928 (90%)] Loss: 0.625032, Acc: 0.704257 (Cliente 1)\t\t\t\t\n",
      "Training 10 epoch(s) w/ 77 mini-batches each751, Acc: 0.701993 (Cliente 1)\t\t\t\t\n",
      "\n",
      "Train Epoch: 0 [4416/4928 (90%)] Loss: 0.751320, Acc: 0.696105 (Cliente 1)\t\t\t\t\n",
      "Train Epoch: 1 [4416/4928 (90%)] Loss: 0.717316, Acc: 0.701766 (Cliente 1)\t\t\t\t\n",
      "Train Epoch: 2 [4416/4928 (90%)] Loss: 0.737630, Acc: 0.705163 (Cliente 1)\t\t\t\t\n",
      "Train Epoch: 3 [4416/4928 (90%)] Loss: 0.905478, Acc: 0.711957 (Cliente 1)\t\t\t\t\n",
      "Train Epoch: 4 [4416/4928 (90%)] Loss: 0.534188, Acc: 0.712636 (Cliente 1)\t\t\t\t\n",
      "Train Epoch: 5 [4416/4928 (90%)] Loss: 0.815856, Acc: 0.718976 (Cliente 1)\t\t\t\t\n",
      "Train Epoch: 6 [4416/4928 (90%)] Loss: 0.900649, Acc: 0.713768 (Cliente 1)\t\t\t\t\n",
      "Train Epoch: 7 [4416/4928 (90%)] Loss: 0.838113, Acc: 0.715580 (Cliente 1)\t\t\t\t\n",
      "Train Epoch: 8 [4416/4928 (90%)] Loss: 1.013464, Acc: 0.717844 (Cliente 1)\t\t\t\t\n",
      "Training 10 epoch(s) w/ 77 mini-batches each051, Acc: 0.710824 (Cliente 1)\t\t\t\t\n",
      "\n",
      "Train Epoch: 0 [4416/4928 (90%)] Loss: 0.737723, Acc: 0.710824 (Cliente 1)\t\t\t\t\n",
      "Train Epoch: 1 [4416/4928 (90%)] Loss: 1.015057, Acc: 0.700408 (Cliente 1)\t\t\t\t\n",
      "Train Epoch: 2 [4416/4928 (90%)] Loss: 1.368852, Acc: 0.714447 (Cliente 1)\t\t\t\t\n",
      "Train Epoch: 3 [4416/4928 (90%)] Loss: 1.101924, Acc: 0.725770 (Cliente 1)\t\t\t\t\n",
      "Train Epoch: 4 [4416/4928 (90%)] Loss: 0.866926, Acc: 0.713768 (Cliente 1)\t\t\t\t\n",
      "Train Epoch: 5 [4416/4928 (90%)] Loss: 1.105846, Acc: 0.720109 (Cliente 1)\t\t\t\t\n",
      "Train Epoch: 6 [4416/4928 (90%)] Loss: 0.625797, Acc: 0.729620 (Cliente 1)\t\t\t\t\n",
      "Train Epoch: 7 [4416/4928 (90%)] Loss: 0.945482, Acc: 0.719656 (Cliente 1)\t\t\t\t\n",
      "Train Epoch: 8 [4416/4928 (90%)] Loss: 0.841633, Acc: 0.720109 (Cliente 1)\t\t\t\t\n",
      "Train Epoch: 9 [4416/4928 (90%)] Loss: 0.717320, Acc: 0.717844 (Cliente 1)\t\t\t\t\r"
     ]
    },
    {
     "name": "stderr",
     "output_type": "stream",
     "text": [
      "DEBUG flower 2024-07-04 15:36:23,721 | connection.py:68 | Insecure gRPC channel closed\n",
      "INFO flower 2024-07-04 15:36:23,726 | app.py:72 | Disconnect and shut down\n"
     ]
    }
   ],
   "source": [
    "client_address = \"[::]:8081\"\n",
    "fl.client.start_client(client_address, client)"
   ]
  }
 ],
 "metadata": {
  "colab": {
   "collapsed_sections": [],
   "name": "2-HAR-client_1.ipynb",
   "provenance": []
  },
  "kernelspec": {
   "display_name": "Python 3",
   "language": "python",
   "name": "python3"
  },
  "language_info": {
   "codemirror_mode": {
    "name": "ipython",
    "version": 3
   },
   "file_extension": ".py",
   "mimetype": "text/x-python",
   "name": "python",
   "nbconvert_exporter": "python",
   "pygments_lexer": "ipython3",
   "version": "3.8.19"
  }
 },
 "nbformat": 4,
 "nbformat_minor": 1
}
