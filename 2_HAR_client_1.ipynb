{
 "cells": [
  {
   "cell_type": "markdown",
   "metadata": {
    "id": "bj3F1nTZj1ho"
   },
   "source": [
    "# Hands On - Aprendizado Federado aplicado à Internet das Coisas\n",
    "\n",
    "**Notebook 2**: Criação de clientes no ambiente federado"
   ]
  },
  {
   "cell_type": "markdown",
   "metadata": {
    "id": "cJPTVnswkMdN"
   },
   "source": [
    "O reconhecimento da atividade humana é uma área de pesquisa ativa e que possui um enorme potencial de benefício com o uso de aprendizado federado (FL), já que tais dados são normalmente privados e possuem informações sensíveis sobre os usuários.\n",
    "Além disso, com FL também podemos desenvolver um modelo conjunto que consiga capturar a diversidade dos dados, algo que é extremamente difícil de ser coletado de forma individual.\n",
    "\n",
    "Sob esse contexto, nesse tutorial vamos aprender como definir clientes para o treinamento federado de uma rede neural para auxilar no reconhecimento de atividades humanas (*Human Activity Recognition* - HAR) usando o framework de aprendizado federado\n",
    "Flower em conjunto com a biblioteca de deep learning Pytorch."
   ]
  },
  {
   "cell_type": "markdown",
   "metadata": {
    "id": "2hX7rxsAk8CT"
   },
   "source": [
    "### Dataset\n",
    "\n",
    "Os dados serão particionados horizontalmente, assim os subconjuntos de treinamento e teste irão ser divididos em mini-batches (pequenos lotes) com base no número total de clientes.\n",
    "\n",
    "Para isso, aplicaremos uma função auxiliar para carregar os dados e definir os conjuntos de treinamento e teste.\n",
    "Nessa função, precisaremos dos seguintes parâmetros: \n",
    "\n",
    "* **data root (str)**: Diretório onde os datasets finais serão armazenados. \n",
    "\n",
    "* **train batch size (int)**: Tamanho do mini-batch usado nos dados de treinamento.\n",
    "\n",
    "* **test batch size (int)**: Tamanho do mini-batch usado nos dados de teste. \n",
    "\n",
    "* **id (int)**: Client ID usado para selecionar uma partição específica. \n",
    "\n",
    "* **nb clients (int)**: Número total de clientes usados no treinamento."
   ]
  },
  {
   "cell_type": "code",
   "execution_count": 2,
   "metadata": {
    "colab": {
     "base_uri": "https://localhost:8080/"
    },
    "id": "UVQzVKL2r67J",
    "outputId": "67066d3f-f7bb-412c-e76b-091aea68ff3c"
   },
   "outputs": [],
   "source": [
    "#Carregando os dados\n",
    "import flwr as fl\n",
    "import torch\n",
    "import aux\n",
    "\n",
    "DATA_ROOT = \"./data/pml-training.csv\"\n",
    "\n",
    "cid = 0\n",
    "nb_clients = 3\n",
    "train_batch_size = 64\n",
    "test_batch_size = 64\n",
    "epochs = 10\n",
    "\n",
    "# Load data\n",
    "train_loader, test_loader = aux.load_data(\n",
    "        data_root = DATA_ROOT,\n",
    "        train_batch_size = train_batch_size,\n",
    "        test_batch_size = test_batch_size,\n",
    "        cid = cid,\n",
    "        nb_clients = nb_clients + 1,\n",
    ")"
   ]
  },
  {
   "cell_type": "markdown",
   "metadata": {
    "id": "Arvhg44xrwWm"
   },
   "source": [
    "### Rede Neural\n",
    "\n",
    "Atualmente o modelo de classificação mais adequado e vantajoso para a modelagem de um ambiente federado são as redes neurais.\n",
    "Definimos essa configuração de arquitetura por meio da criação de uma classe em Pytorch denominada **HARmodel** presente no arquivo auxiliar *aux.py* adicionado."
   ]
  },
  {
   "cell_type": "markdown",
   "metadata": {
    "id": "-glqWQnYsGt3"
   },
   "source": [
    "### Cliente Flower\n",
    "\n",
    "O próximo passo é definir a alocação dos dispositivos no ambiente federado. \n",
    "\n",
    "Quando o servidor seleciona um dispositivo específico do ambiente federado para realizar um treinamento, ele envia as instruções pela rede, por meio de uma interface chamada **Client**.\n",
    "Assim, o cliente recebe as instruções do servidor e chama um dos métodos desta classe para executar seu código (ou seja, para treinar a sua rede neural local). \n",
    "\n",
    "O framework Flower fornece uma classe chamada *NumPyClient*, que torna mais fácil implementar a interface do cliente quando utilizamos PyTorch. \n",
    "Quando implementamos um NumPyClient devemos definir os seguintes métodos: \n",
    "\n",
    "* **get_parameters**: retorna o peso do modelo\n",
    "como uma lista de ndarrays \n",
    "\n",
    "* **set_parameters** (opcional): atualiza os pesos do modelo\n",
    "local com os parâmetros recebidos do servidor \n",
    "\n",
    "* **fit**: define os pesos do modelo local, treina o modelo localmente e recebe o update dos pesos locais \n",
    "\n",
    "* **evaluate**: define como o modelo local será testado. \n",
    "\n",
    "Abaixo mostramos como a classe Client foi implementada\n",
    "para o caso de estudo apresentado:"
   ]
  },
  {
   "cell_type": "code",
   "execution_count": 3,
   "metadata": {},
   "outputs": [],
   "source": [
    "class FlowerClient(fl.client.Client):\n",
    "    \"\"\"Flower client implementing classification using PyTorch.\"\"\"\n",
    "\n",
    "    def __init__(self, cid, train_loader, test_loader, epochs, device: torch.device = torch.device(\"cpu\")):\n",
    "        \n",
    "        self.model = HARmodel(40, 5).to(device)\n",
    "        self.cid = cid\n",
    "        self.train_loader = train_loader\n",
    "        self.test_loader = test_loader\n",
    "        self.device = device\n",
    "        self.epochs = epochs\n",
    "\n",
    "    def get_weights(self):\n",
    "        \"\"\"Get model weights as a list of NumPy ndarrays.\"\"\"\n",
    "        return [val.cpu().numpy() for _, val in self.model.state_dict().items()]\n",
    "\n",
    "    def set_weights(self, weights):\n",
    "        \"\"\"Set model weights from a list of NumPy ndarrays.\n",
    "        Parameters\n",
    "        ----------\n",
    "        weights: fl.common.Weights\n",
    "            Weights received by the server and set to local model\n",
    "        Returns\n",
    "        -------\n",
    "        \"\"\"\n",
    "        state_dict = OrderedDict(\n",
    "            {\n",
    "                k: torch.Tensor(v)\n",
    "                for k, v in zip(self.model.state_dict().keys(), weights)\n",
    "            }\n",
    "        )\n",
    "        self.model.load_state_dict(state_dict, strict=True)\n",
    "\n",
    "    def get_parameters(self):\n",
    "        \"\"\"Encapsulates the weights into Flower Parameters \"\"\"\n",
    "        weights: fl.common.Weights = self.get_weights()\n",
    "        parameters = fl.common.weights_to_parameters(weights)\n",
    "        return fl.common.ParametersRes(parameters=parameters)\n",
    "\n",
    "    def fit(self, ins):\n",
    "        \"\"\"Trains the model on local dataset\n",
    "        Parameters\n",
    "        ----------\n",
    "        ins: fl.common.FitIns\n",
    "           Parameters sent by the server to be used during training.\n",
    "        Returns\n",
    "        -------\n",
    "            Set of variables containing the new set of weights and information the client.\n",
    "        \"\"\"\n",
    "\n",
    "        # Set the seed so we are sure to generate the same global batches\n",
    "        # indices across all clients\n",
    "        np.random.seed(123)\n",
    "\n",
    "        weights: fl.common.Weights = fl.common.parameters_to_weights(ins.parameters)\n",
    "        fit_begin = timeit.default_timer()\n",
    "\n",
    "        # Set model parameters/weights\n",
    "        self.set_weights(weights)\n",
    "\n",
    "        # Train model\n",
    "        num_examples_train: int = train(\n",
    "            self.model, self.train_loader, epochs = self.epochs, device = self.device, cid = self.cid\n",
    "        )\n",
    "\n",
    "        # Return the refined weights and the number of examples used for training\n",
    "        weights_prime: fl.common.Weights = self.get_weights()\n",
    "        params_prime = fl.common.weights_to_parameters(weights_prime)\n",
    "        fit_duration = timeit.default_timer() - fit_begin\n",
    "        return fl.common.FitRes(\n",
    "            parameters = params_prime,\n",
    "            num_examples = num_examples_train,\n",
    "            num_examples_ceil = num_examples_train,\n",
    "            fit_duration = fit_duration,\n",
    "        )\n",
    "\n",
    "    def evaluate(self, ins):\n",
    "        \"\"\"\n",
    "        Parameters\n",
    "        ----------\n",
    "        ins: fl.common.EvaluateIns\n",
    "           Parameters sent by the server to be used during testing.\n",
    "        Returns\n",
    "        -------\n",
    "            Information the clients testing results.\n",
    "        \"\"\"\n",
    "        weights = fl.common.parameters_to_weights(ins.parameters)\n",
    "\n",
    "        # Use provided weights to update the local model\n",
    "        self.set_weights(weights)\n",
    "\n",
    "        (num_examples_test, test_loss, accuracy) = test(self.model, self.test_loader, device = self.device)\n",
    "        print(f\"Client {self.cid} - Evaluate on {num_examples_test} samples: Average loss: {test_loss:.4f}, Accuracy: {100*accuracy:.2f}%\\n\")\n",
    "\n",
    "        # Return the number of evaluation examples and the evaluation result (loss)\n",
    "        return fl.common.EvaluateRes(\n",
    "            num_examples = num_examples_test,\n",
    "            loss = float(test_loss),\n",
    "            accuracy = float(accuracy),\n",
    "        )"
   ]
  },
  {
   "cell_type": "markdown",
   "metadata": {},
   "source": [
    "### Instanciando o cliente"
   ]
  },
  {
   "cell_type": "code",
   "execution_count": 4,
   "metadata": {
    "id": "MEUIciNJ69re"
   },
   "outputs": [],
   "source": [
    "device = torch.device(\"cuda\" if torch.cuda.is_available() else \"cpu\")\n",
    "\n",
    "client = aux.FlowerClient(\n",
    "    cid = cid,\n",
    "    train_loader = train_loader,\n",
    "    test_loader = test_loader,\n",
    "    epochs = epochs,\n",
    "    device = device,\n",
    ")"
   ]
  },
  {
   "cell_type": "markdown",
   "metadata": {
    "id": "yNxtUr3s67hn"
   },
   "source": [
    "### Inicializando o cliente\n",
    "\n",
    "O flower nos fornece a possibilidade de rodar o servidor e o cliente na mesma máquina, configurando o endereço do servidor como \"[::]: 8080\". \n",
    "Porém, se quisermos implementar uma aplicação realmente federada com o servidor e clientes em execução em diferentes máquinas, precisaremos apenas alterar o server address para o respectivo endereço da máquina do cliente."
   ]
  },
  {
   "cell_type": "code",
   "execution_count": 6,
   "metadata": {
    "id": "CD9ie8II7QHB",
    "scrolled": false
   },
   "outputs": [
    {
     "name": "stderr",
     "output_type": "stream",
     "text": [
      "DEBUG flower 2024-07-04 13:33:25,590 | connection.py:36 | ChannelConnectivity.IDLE\n",
      "DEBUG flower 2024-07-04 13:33:25,600 | connection.py:36 | ChannelConnectivity.CONNECTING\n",
      "INFO flower 2024-07-04 13:33:25,604 | app.py:61 | Opened (insecure) gRPC connection\n",
      "DEBUG flower 2024-07-04 13:33:25,606 | connection.py:36 | ChannelConnectivity.READY\n"
     ]
    },
    {
     "name": "stdout",
     "output_type": "stream",
     "text": [
      "Training 10 epoch(s) w/ 77 mini-batches each\n",
      "\n",
      "Train Epoch: 0 [4416/4928 (90%)] Loss: 1.615358, Acc: 0.229620 (Cliente 0)\t\t\t\t\n",
      "Train Epoch: 1 [4416/4928 (90%)] Loss: 1.546591, Acc: 0.266531 (Cliente 0)\t\t\t\t\n",
      "Train Epoch: 2 [4416/4928 (90%)] Loss: 1.711319, Acc: 0.302310 (Cliente 0)\t\t\t\t\n",
      "Train Epoch: 3 [4416/4928 (90%)] Loss: 1.447104, Acc: 0.339900 (Cliente 0)\t\t\t\t\n",
      "Train Epoch: 4 [4416/4928 (90%)] Loss: 1.450195, Acc: 0.375453 (Cliente 0)\t\t\t\t\n",
      "Train Epoch: 5 [4416/4928 (90%)] Loss: 1.396995, Acc: 0.398551 (Cliente 0)\t\t\t\t\n",
      "Train Epoch: 6 [4416/4928 (90%)] Loss: 1.368090, Acc: 0.439991 (Cliente 0)\t\t\t\t\n",
      "Train Epoch: 7 [4416/4928 (90%)] Loss: 1.290432, Acc: 0.460598 (Cliente 0)\t\t\t\t\n",
      "Train Epoch: 8 [4416/4928 (90%)] Loss: 1.159337, Acc: 0.481658 (Cliente 0)\t\t\t\t\n",
      "Training 10 epoch(s) w/ 77 mini-batches each817, Acc: 0.496830 (Cliente 0)\t\t\t\t\n",
      "\n",
      "Train Epoch: 0 [4416/4928 (90%)] Loss: 1.254520, Acc: 0.451540 (Cliente 0)\t\t\t\t\n",
      "Train Epoch: 1 [4416/4928 (90%)] Loss: 1.212425, Acc: 0.497509 (Cliente 0)\t\t\t\t\n",
      "Train Epoch: 2 [4416/4928 (90%)] Loss: 1.312997, Acc: 0.517437 (Cliente 0)\t\t\t\t\n",
      "Train Epoch: 3 [4416/4928 (90%)] Loss: 1.052165, Acc: 0.521739 (Cliente 0)\t\t\t\t\n",
      "Train Epoch: 4 [4416/4928 (90%)] Loss: 1.172360, Acc: 0.526721 (Cliente 0)\t\t\t\t\n",
      "Train Epoch: 5 [4416/4928 (90%)] Loss: 1.164900, Acc: 0.543025 (Cliente 0)\t\t\t\t\n",
      "Train Epoch: 6 [4416/4928 (90%)] Loss: 1.068852, Acc: 0.551857 (Cliente 0)\t\t\t\t\n",
      "Train Epoch: 7 [4416/4928 (90%)] Loss: 1.019690, Acc: 0.546196 (Cliente 0)\t\t\t\t\n",
      "Train Epoch: 8 [4416/4928 (90%)] Loss: 0.909908, Acc: 0.560688 (Cliente 0)\t\t\t\t\n",
      "Training 10 epoch(s) w/ 77 mini-batches each273, Acc: 0.568614 (Cliente 0)\t\t\t\t\n",
      "\n",
      "Train Epoch: 0 [4416/4928 (90%)] Loss: 0.925548, Acc: 0.560688 (Cliente 0)\t\t\t\t\n",
      "Train Epoch: 1 [4416/4928 (90%)] Loss: 1.054359, Acc: 0.570199 (Cliente 0)\t\t\t\t\n",
      "Train Epoch: 2 [4416/4928 (90%)] Loss: 1.030158, Acc: 0.584918 (Cliente 0)\t\t\t\t\n",
      "Train Epoch: 3 [4416/4928 (90%)] Loss: 1.218211, Acc: 0.589900 (Cliente 0)\t\t\t\t\n",
      "Train Epoch: 4 [4416/4928 (90%)] Loss: 0.856336, Acc: 0.597600 (Cliente 0)\t\t\t\t\n",
      "Train Epoch: 5 [4416/4928 (90%)] Loss: 1.175285, Acc: 0.599411 (Cliente 0)\t\t\t\t\n",
      "Train Epoch: 6 [4416/4928 (90%)] Loss: 1.080758, Acc: 0.605752 (Cliente 0)\t\t\t\t\n",
      "Train Epoch: 7 [4416/4928 (90%)] Loss: 0.912148, Acc: 0.607111 (Cliente 0)\t\t\t\t\n",
      "Train Epoch: 8 [4416/4928 (90%)] Loss: 1.019035, Acc: 0.618433 (Cliente 0)\t\t\t\t\n",
      "Training 10 epoch(s) w/ 77 mini-batches each487, Acc: 0.613451 (Cliente 0)\t\t\t\t\n",
      "\n",
      "Train Epoch: 0 [4416/4928 (90%)] Loss: 0.957882, Acc: 0.616848 (Cliente 0)\t\t\t\t\n",
      "Train Epoch: 1 [4416/4928 (90%)] Loss: 1.068460, Acc: 0.621830 (Cliente 0)\t\t\t\t\n",
      "Train Epoch: 2 [4416/4928 (90%)] Loss: 1.085637, Acc: 0.622283 (Cliente 0)\t\t\t\t\n",
      "Train Epoch: 3 [4416/4928 (90%)] Loss: 1.016254, Acc: 0.634058 (Cliente 0)\t\t\t\t\n",
      "Train Epoch: 4 [4416/4928 (90%)] Loss: 0.871907, Acc: 0.646060 (Cliente 0)\t\t\t\t\n",
      "Train Epoch: 5 [4416/4928 (90%)] Loss: 0.782005, Acc: 0.646513 (Cliente 0)\t\t\t\t\n",
      "Train Epoch: 6 [4416/4928 (90%)] Loss: 1.125252, Acc: 0.640625 (Cliente 0)\t\t\t\t\n",
      "Train Epoch: 7 [4416/4928 (90%)] Loss: 0.837289, Acc: 0.650589 (Cliente 0)\t\t\t\t\n",
      "Train Epoch: 8 [4416/4928 (90%)] Loss: 1.075160, Acc: 0.656929 (Cliente 0)\t\t\t\t\n",
      "Training 10 epoch(s) w/ 77 mini-batches each308, Acc: 0.659420 (Cliente 0)\t\t\t\t\n",
      "\n",
      "Train Epoch: 0 [4416/4928 (90%)] Loss: 0.752090, Acc: 0.641757 (Cliente 0)\t\t\t\t\n",
      "Train Epoch: 1 [4416/4928 (90%)] Loss: 0.846530, Acc: 0.649004 (Cliente 0)\t\t\t\t\n",
      "Train Epoch: 2 [4416/4928 (90%)] Loss: 1.007319, Acc: 0.661911 (Cliente 0)\t\t\t\t\n",
      "Train Epoch: 3 [4416/4928 (90%)] Loss: 0.966364, Acc: 0.664402 (Cliente 0)\t\t\t\t\n",
      "Train Epoch: 4 [4416/4928 (90%)] Loss: 1.043561, Acc: 0.677310 (Cliente 0)\t\t\t\t\n",
      "Train Epoch: 5 [4416/4928 (90%)] Loss: 1.079787, Acc: 0.675498 (Cliente 0)\t\t\t\t\n",
      "Train Epoch: 6 [4416/4928 (90%)] Loss: 0.943455, Acc: 0.680480 (Cliente 0)\t\t\t\t\n",
      "Train Epoch: 7 [4416/4928 (90%)] Loss: 1.059995, Acc: 0.672554 (Cliente 0)\t\t\t\t\n",
      "Train Epoch: 8 [4416/4928 (90%)] Loss: 0.834306, Acc: 0.674819 (Cliente 0)\t\t\t\t\n",
      "Training 10 epoch(s) w/ 77 mini-batches each251, Acc: 0.677989 (Cliente 0)\t\t\t\t\n",
      "\n",
      "Train Epoch: 0 [4416/4928 (90%)] Loss: 1.030847, Acc: 0.658514 (Cliente 0)\t\t\t\t\n",
      "Train Epoch: 1 [4416/4928 (90%)] Loss: 0.608403, Acc: 0.682971 (Cliente 0)\t\t\t\t\n",
      "Train Epoch: 2 [4416/4928 (90%)] Loss: 0.933862, Acc: 0.681839 (Cliente 0)\t\t\t\t\n",
      "Train Epoch: 3 [4416/4928 (90%)] Loss: 1.133325, Acc: 0.681386 (Cliente 0)\t\t\t\t\n",
      "Train Epoch: 4 [4416/4928 (90%)] Loss: 0.798529, Acc: 0.689991 (Cliente 0)\t\t\t\t\n",
      "Train Epoch: 5 [4416/4928 (90%)] Loss: 1.149462, Acc: 0.688859 (Cliente 0)\t\t\t\t\n",
      "Train Epoch: 6 [4416/4928 (90%)] Loss: 0.887100, Acc: 0.690897 (Cliente 0)\t\t\t\t\n",
      "Train Epoch: 7 [4416/4928 (90%)] Loss: 0.770645, Acc: 0.694067 (Cliente 0)\t\t\t\t\n",
      "Train Epoch: 8 [4416/4928 (90%)] Loss: 0.785309, Acc: 0.698370 (Cliente 0)\t\t\t\t\n",
      "Training 10 epoch(s) w/ 77 mini-batches each569, Acc: 0.696784 (Cliente 0)\t\t\t\t\n",
      "\n",
      "Train Epoch: 0 [4416/4928 (90%)] Loss: 0.944601, Acc: 0.685009 (Cliente 0)\t\t\t\t\n",
      "Train Epoch: 1 [4416/4928 (90%)] Loss: 0.805633, Acc: 0.699049 (Cliente 0)\t\t\t\t\n",
      "Train Epoch: 2 [4416/4928 (90%)] Loss: 0.839688, Acc: 0.699955 (Cliente 0)\t\t\t\t\n",
      "Train Epoch: 3 [4416/4928 (90%)] Loss: 1.035901, Acc: 0.700861 (Cliente 0)\t\t\t\t\n",
      "Train Epoch: 4 [4416/4928 (90%)] Loss: 0.928796, Acc: 0.683877 (Cliente 0)\t\t\t\t\n",
      "Train Epoch: 5 [4416/4928 (90%)] Loss: 0.707311, Acc: 0.705389 (Cliente 0)\t\t\t\t\n",
      "Train Epoch: 6 [4416/4928 (90%)] Loss: 0.950900, Acc: 0.704257 (Cliente 0)\t\t\t\t\n",
      "Train Epoch: 7 [4416/4928 (90%)] Loss: 0.954515, Acc: 0.713315 (Cliente 0)\t\t\t\t\n",
      "Train Epoch: 8 [4416/4928 (90%)] Loss: 0.865645, Acc: 0.698143 (Cliente 0)\t\t\t\t\n",
      "Training 10 epoch(s) w/ 77 mini-batches each885, Acc: 0.712862 (Cliente 0)\t\t\t\t\n",
      "\n",
      "Train Epoch: 0 [4416/4928 (90%)] Loss: 0.949389, Acc: 0.685462 (Cliente 0)\t\t\t\t\n",
      "Train Epoch: 1 [4416/4928 (90%)] Loss: 0.929687, Acc: 0.707201 (Cliente 0)\t\t\t\t\n",
      "Train Epoch: 2 [4416/4928 (90%)] Loss: 0.768927, Acc: 0.712183 (Cliente 0)\t\t\t\t\n",
      "Train Epoch: 3 [4416/4928 (90%)] Loss: 0.974513, Acc: 0.718750 (Cliente 0)\t\t\t\t\n",
      "Train Epoch: 4 [4416/4928 (90%)] Loss: 0.794231, Acc: 0.712636 (Cliente 0)\t\t\t\t\n",
      "Train Epoch: 5 [4416/4928 (90%)] Loss: 0.746308, Acc: 0.709466 (Cliente 0)\t\t\t\t\n",
      "Train Epoch: 6 [4416/4928 (90%)] Loss: 0.812522, Acc: 0.715353 (Cliente 0)\t\t\t\t\n",
      "Train Epoch: 7 [4416/4928 (90%)] Loss: 0.812501, Acc: 0.713995 (Cliente 0)\t\t\t\t\n",
      "Train Epoch: 8 [4416/4928 (90%)] Loss: 0.894467, Acc: 0.716486 (Cliente 0)\t\t\t\t\n",
      "Training 10 epoch(s) w/ 77 mini-batches each306, Acc: 0.718071 (Cliente 0)\t\t\t\t\n",
      "\n",
      "Train Epoch: 0 [4416/4928 (90%)] Loss: 0.821381, Acc: 0.710598 (Cliente 0)\t\t\t\t\n",
      "Train Epoch: 1 [4416/4928 (90%)] Loss: 0.630140, Acc: 0.703125 (Cliente 0)\t\t\t\t\n",
      "Train Epoch: 2 [4416/4928 (90%)] Loss: 0.728846, Acc: 0.702672 (Cliente 0)\t\t\t\t\n",
      "Train Epoch: 3 [4416/4928 (90%)] Loss: 0.726572, Acc: 0.712862 (Cliente 0)\t\t\t\t\n",
      "Train Epoch: 4 [4416/4928 (90%)] Loss: 0.814449, Acc: 0.718524 (Cliente 0)\t\t\t\t\n",
      "Train Epoch: 5 [4416/4928 (90%)] Loss: 0.838274, Acc: 0.720335 (Cliente 0)\t\t\t\t\n",
      "Train Epoch: 6 [4416/4928 (90%)] Loss: 0.861752, Acc: 0.725770 (Cliente 0)\t\t\t\t\n",
      "Train Epoch: 7 [4416/4928 (90%)] Loss: 0.794568, Acc: 0.718750 (Cliente 0)\t\t\t\t\n",
      "Train Epoch: 8 [4416/4928 (90%)] Loss: 0.795530, Acc: 0.722373 (Cliente 0)\t\t\t\t\n",
      "Training 10 epoch(s) w/ 77 mini-batches each208, Acc: 0.717165 (Cliente 0)\t\t\t\t\n",
      "\n",
      "Train Epoch: 0 [4416/4928 (90%)] Loss: 1.001259, Acc: 0.706748 (Cliente 0)\t\t\t\t\n",
      "Train Epoch: 1 [4416/4928 (90%)] Loss: 0.782470, Acc: 0.711730 (Cliente 0)\t\t\t\t\n",
      "Train Epoch: 2 [4416/4928 (90%)] Loss: 0.875082, Acc: 0.711730 (Cliente 0)\t\t\t\t\n",
      "Train Epoch: 3 [4416/4928 (90%)] Loss: 0.674669, Acc: 0.716712 (Cliente 0)\t\t\t\t\n",
      "Train Epoch: 4 [4416/4928 (90%)] Loss: 0.934963, Acc: 0.733016 (Cliente 0)\t\t\t\t\n",
      "Train Epoch: 5 [4416/4928 (90%)] Loss: 0.907126, Acc: 0.721467 (Cliente 0)\t\t\t\t\n",
      "Train Epoch: 6 [4416/4928 (90%)] Loss: 0.568619, Acc: 0.726223 (Cliente 0)\t\t\t\t\n",
      "Train Epoch: 7 [4416/4928 (90%)] Loss: 0.945423, Acc: 0.737545 (Cliente 0)\t\t\t\t\n",
      "Train Epoch: 8 [4416/4928 (90%)] Loss: 0.611185, Acc: 0.730525 (Cliente 0)\t\t\t\t\n",
      "Train Epoch: 9 [4416/4928 (90%)] Loss: 0.637370, Acc: 0.729846 (Cliente 0)\t\t\t\t\r"
     ]
    },
    {
     "name": "stderr",
     "output_type": "stream",
     "text": [
      "DEBUG flower 2024-07-04 15:36:24,240 | connection.py:68 | Insecure gRPC channel closed\n",
      "INFO flower 2024-07-04 15:36:24,242 | app.py:72 | Disconnect and shut down\n"
     ]
    }
   ],
   "source": [
    "client_address = \"[::]:8081\"\n",
    "fl.client.start_client(client_address, client)"
   ]
  }
 ],
 "metadata": {
  "colab": {
   "collapsed_sections": [],
   "name": "2-HAR-client_1.ipynb",
   "provenance": []
  },
  "kernelspec": {
   "display_name": "Python 3",
   "language": "python",
   "name": "python3"
  },
  "language_info": {
   "codemirror_mode": {
    "name": "ipython",
    "version": 3
   },
   "file_extension": ".py",
   "mimetype": "text/x-python",
   "name": "python",
   "nbconvert_exporter": "python",
   "pygments_lexer": "ipython3",
   "version": "3.8.19"
  }
 },
 "nbformat": 4,
 "nbformat_minor": 1
}
